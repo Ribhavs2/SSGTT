{
 "cells": [
  {
   "cell_type": "markdown",
   "metadata": {},
   "source": [
    "## [MAUVE & ROUGE] ASQA & ELI5"
   ]
  },
  {
   "cell_type": "code",
   "execution_count": null,
   "metadata": {},
   "outputs": [],
   "source": [
    "import json\n",
    "\n",
    "# Function to trim prediction\n",
    "def trim_prediction(pred):\n",
    "    return pred.split(\"</s>\")[0]\n",
    "\n",
    "# Load JSON data from file\n",
    "with open(\"results_no_indent.json\", \"r\") as file:\n",
    "    results = json.load(file)\n",
    "\n",
    "# Apply the function to modify 'pred' values\n",
    "for entry in results:\n",
    "    entry[\"pred\"] = [trim_prediction(p) for p in entry[\"pred\"]]\n",
    "\n",
    "# Save the modified JSON back to a file\n",
    "with open(\"results_no_indent_modified.json\", \"w\") as file:\n",
    "    json.dump(results, file, indent=4)\n",
    "\n",
    "print(\"Updated JSON saved as 'results_no_indent_modified.json'.\")"
   ]
  },
  {
   "cell_type": "code",
   "execution_count": 18,
   "metadata": {},
   "outputs": [],
   "source": [
    "import copy\n",
    "import json\n",
    "# from metrics import load_file\n",
    "\n",
    "import random\n",
    "\n",
    "with open(\"results_no_indent_modified.json\", \"r\") as file:\n",
    "    dummy_data = json.load(file)\n",
    "\n",
    "\n",
    "data = []\n",
    "for item in dummy_data:\n",
    "    data.append({\n",
    "        \"input\": \" | \".join([\" \".join(triple) for triple in item['input']]),\n",
    "        \"output\": item[\"pred\"][0].lower(),\n",
    "        \"golds\": item[\"label\"][0].lower()\n",
    "    })\n",
    "            \n"
   ]
  },
  {
   "cell_type": "code",
   "execution_count": 34,
   "metadata": {},
   "outputs": [
    {
     "data": {
      "text/plain": [
       "{'input': [['<S> Frankfurt am main| <P> Country| <O> Germany',\n",
       "   '<S> Rüdiger wittig| <P> Affiliation| <O> Goethe university frankfurt',\n",
       "   '<S> Rüdiger wittig| <P> Field of study| <O> Ecology',\n",
       "   '<S> Rüdiger wittig| <P> Field of study| <O> Geobotany',\n",
       "   '<S> Goethe university frankfurt| <P> City| <O> Frankfurt am main']],\n",
       " 'pred': ['Rüdiger Wittig is a German geobotanist and ecologist who works at Goethe University Frankfurt in Frankfurt am Main, Germany.'],\n",
       " 'label': ['Rüdiger Wittig is a professor of geobotany and ecology at the Goethe University Frankfurt in Frankfurt am Main, Germany.']}"
      ]
     },
     "execution_count": 34,
     "metadata": {},
     "output_type": "execute_result"
    }
   ],
   "source": [
    "dummy_data[45]"
   ]
  },
  {
   "cell_type": "code",
   "execution_count": 27,
   "metadata": {},
   "outputs": [
    {
     "data": {
      "text/plain": [
       "{'input': '<S> Ban nang long railway station| <P> Province| <O> Nakhon si thammarat <S> Ban nang long railway station| <P> District| <O> Cha-uat district <S> Ban nang long railway station| <P> Location| <O> Nang long subdistrict',\n",
       " 'output': 'ban nang long railway station is a railway station in nang long subdistrict, cha-uat district, nakhon si thammarat province.',\n",
       " 'golds': 'ban nang long railway station is a railway station located in nang long subdistrict, cha-uat district, nakhon si thammarat.'}"
      ]
     },
     "execution_count": 27,
     "metadata": {},
     "output_type": "execute_result"
    }
   ],
   "source": [
    "data[25]"
   ]
  },
  {
   "cell_type": "code",
   "execution_count": 3,
   "metadata": {},
   "outputs": [
    {
     "name": "stderr",
     "output_type": "stream",
     "text": [
      "/home/ubuntu/miniconda3/envs/llama_env/lib/python3.10/site-packages/tqdm/auto.py:21: TqdmWarning: IProgress not found. Please update jupyter and ipywidgets. See https://ipywidgets.readthedocs.io/en/stable/user_install.html\n",
      "  from .autonotebook import tqdm as notebook_tqdm\n"
     ]
    }
   ],
   "source": [
    "import os\n",
    "from metrics import *"
   ]
  },
  {
   "cell_type": "code",
   "execution_count": 4,
   "metadata": {},
   "outputs": [
    {
     "name": "stderr",
     "output_type": "stream",
     "text": [
      "[nltk_data] Downloading package punkt_tab to /home/ubuntu/nltk_data...\n",
      "[nltk_data]   Package punkt_tab is already up-to-date!\n"
     ]
    },
    {
     "data": {
      "text/plain": [
       "True"
      ]
     },
     "execution_count": 4,
     "metadata": {},
     "output_type": "execute_result"
    }
   ],
   "source": [
    "import nltk\n",
    "nltk.download('punkt_tab')"
   ]
  },
  {
   "cell_type": "code",
   "execution_count": 5,
   "metadata": {},
   "outputs": [],
   "source": [
    "from tqdm import tqdm\n",
    "\n"
   ]
  },
  {
   "cell_type": "code",
   "execution_count": 6,
   "metadata": {},
   "outputs": [
    {
     "name": "stdout",
     "output_type": "stream",
     "text": [
      "ROUGE Score: 71.83422263040993\n",
      "Loading tokenizer\n",
      "Tokenizing text...\n",
      "Loading tokenizer\n",
      "Loading model\n",
      "Featurizing tokens\n"
     ]
    },
    {
     "name": "stderr",
     "output_type": "stream",
     "text": [
      "Featurizing p: 100%|██████████| 41/41 [00:33<00:00,  1.22it/s]\n"
     ]
    },
    {
     "name": "stdout",
     "output_type": "stream",
     "text": [
      "Tokenizing text...\n",
      "Featurizing tokens\n"
     ]
    },
    {
     "name": "stderr",
     "output_type": "stream",
     "text": [
      "Featurizing q: 100%|██████████| 41/41 [00:32<00:00,  1.26it/s]\n",
      "WARNING clustering 656 points to 33 centroids: please provide at least 1287 training points\n"
     ]
    },
    {
     "name": "stdout",
     "output_type": "stream",
     "text": [
      "seed = 25\n",
      "performing clustering in lower dimension = 128\n",
      "Clustering 656 points in 129D to 33 clusters, redo 5 times, 500 iterations\n",
      "  Preprocessing in 0.00 s\n",
      "Outer iteration 0 / 5\n",
      "  Iteration 499 (0.23 s, search 0.12 s): objective=131.689 imbalance=1.214 nsplit=0       \n",
      "Objective improved: keep new clusters\n",
      "Outer iteration 1 / 5\n",
      "  Iteration 499 (0.32 s, search 0.19 s): objective=131.309 imbalance=1.571 nsplit=0       \n",
      "Objective improved: keep new clusters\n",
      "Outer iteration 2 / 5\n",
      "  Iteration 499 (0.41 s, search 0.26 s): objective=136.535 imbalance=1.716 nsplit=0       \n",
      "Outer iteration 3 / 5\n",
      "  Iteration 499 (0.49 s, search 0.32 s): objective=130.337 imbalance=1.431 nsplit=0       \n",
      "Objective improved: keep new clusters\n",
      "Outer iteration 4 / 5\n",
      "  Iteration 499 (0.58 s, search 0.38 s): objective=134.022 imbalance=1.814 nsplit=0       \n",
      "kmeans time: 0.58 s\n",
      "total discretization time: 0.75 seconds\n",
      "MAUVE Score: 76.08182172960719\n"
     ]
    },
    {
     "name": "stderr",
     "output_type": "stream",
     "text": [
      "100%|██████████| 328/328 [00:00<00:00, 25962.10it/s]"
     ]
    },
    {
     "name": "stdout",
     "output_type": "stream",
     "text": [
      "Match Accuracy: 0.08536585365853659\n"
     ]
    },
    {
     "name": "stderr",
     "output_type": "stream",
     "text": [
      "\n"
     ]
    }
   ],
   "source": [
    "os.environ[\"CUDA_VISIBLE_DEVICES\"] = \"0\"\n",
    "\n",
    "normalized_data = copy.deepcopy(data)\n",
    "\n",
    "# Normalize output and reference texts (trims to first 100 tokens)\n",
    "references = [' '.join((' '.join(item['input']) + \" \" + ' '.join(item['golds'])).split()[:100]).rstrip() for item in normalized_data]\n",
    "predictions = [' '.join((' '.join(item['input']) + \" \" + item['output']).split()[:100]).rstrip() for item in normalized_data]\n",
    "\n",
    "# Compute and display metrics\n",
    "print(\"ROUGE Score:\", compute_rouge([{\"output\": d[\"output\"], \"label\": d[\"golds\"]} for d in normalized_data]))\n",
    "print(\"MAUVE Score:\", mauve_score(predictions, references))\n",
    "\n",
    "# Compute accuracy-based evaluation\n",
    "metric_result_1 = []\n",
    "for i in tqdm(range(len(data))):\n",
    "    golds = data[i][\"golds\"] if isinstance(data[i][\"golds\"], list) else [data[i][\"golds\"]]\n",
    "    result = match(data[i][\"output\"], golds)\n",
    "    metric_result_1.append(result)\n",
    "\n",
    "# Print final evaluation metric\n",
    "print(\"Match Accuracy:\", np.mean(metric_result_1))"
   ]
  },
  {
   "cell_type": "code",
   "execution_count": 7,
   "metadata": {},
   "outputs": [
    {
     "data": {
      "text/plain": [
       "{'input': '<S> Richard james pears| <P> Nationality| <O> English <S> Richard james pears| <P> Occupation| <O> Professional footballer',\n",
       " 'output': 'richard james pears was an english professional footballer.',\n",
       " 'golds': 'richard james pears is an english former professional footballer.'}"
      ]
     },
     "execution_count": 7,
     "metadata": {},
     "output_type": "execute_result"
    }
   ],
   "source": [
    "data[0]"
   ]
  },
  {
   "cell_type": "code",
   "execution_count": 8,
   "metadata": {},
   "outputs": [
    {
     "name": "stdout",
     "output_type": "stream",
     "text": [
      "Final BLEU Score: 0.1442\n"
     ]
    }
   ],
   "source": [
    "import json\n",
    "import nltk\n",
    "from nltk.translate.bleu_score import sentence_bleu, SmoothingFunction\n",
    "\n",
    "# Smoothing function to avoid zero scores\n",
    "smoothing = SmoothingFunction().method1\n",
    "\n",
    "# List to store BLEU scores\n",
    "bleu_scores = []\n",
    "\n",
    "for entry in data:\n",
    "    # Process 'pred' field\n",
    "    processed_pred = entry[\"output\"][0]\n",
    "\n",
    "    # Tokenize reference and prediction\n",
    "    references = [entry[\"golds\"][0].split()]  # Tokenized ground truth\n",
    "    candidate = processed_pred.split()  # Tokenized prediction\n",
    "\n",
    "    # Compute BLEU score\n",
    "    bleu_score = sentence_bleu(references, candidate, smoothing_function=smoothing)\n",
    "    bleu_scores.append(bleu_score)\n",
    "\n",
    "# Compute final average BLEU score\n",
    "final_bleu_score = sum(bleu_scores) / len(bleu_scores) if bleu_scores else 0.0\n",
    "\n",
    "# Print the final BLEU score\n",
    "print(f\"Final BLEU Score: {final_bleu_score:.4f}\")\n"
   ]
  },
  {
   "cell_type": "code",
   "execution_count": 13,
   "metadata": {},
   "outputs": [
    {
     "name": "stderr",
     "output_type": "stream",
     "text": [
      "[nltk_data] Downloading package wordnet to /home/ubuntu/nltk_data...\n"
     ]
    },
    {
     "data": {
      "text/plain": [
       "True"
      ]
     },
     "execution_count": 13,
     "metadata": {},
     "output_type": "execute_result"
    }
   ],
   "source": [
    "nltk.download('wordnet')  # Required for METEOR to handle synonyms\n"
   ]
  },
  {
   "cell_type": "code",
   "execution_count": 12,
   "metadata": {},
   "outputs": [
    {
     "name": "stdout",
     "output_type": "stream",
     "text": [
      "Final BERTScore (F1): 0.9265\n"
     ]
    }
   ],
   "source": [
    "import json\n",
    "import torch\n",
    "from bert_score import score as bert_score\n",
    "# from bleurt import score as bleurt_score\n",
    "\n",
    "# Load JSON data from file\n",
    "# with open(\"results.json\", \"r\") as file:\n",
    "#     results = json.load(file)\n",
    "\n",
    "# Extract predictions and ground truths\n",
    "predictions = [entry[\"output\"][0] for entry in data]\n",
    "references = [entry[\"golds\"][0] for entry in data]\n",
    "\n",
    "# Compute BERTScore\n",
    "P, R, F1 = bert_score(predictions, references, lang=\"en\", model_type=\"microsoft/deberta-xlarge-mnli\")\n",
    "\n",
    "# Compute BLEURT\n",
    "# bleurt_evaluator = bleurt_score.BleurtScorer(\"BLEURT-20\")\n",
    "# bleurt_scores = bleurt_evaluator.score(references=references, candidates=predictions)\n",
    "\n",
    "# Compute Final Scores\n",
    "average_bert_f1 = torch.mean(F1).item()\n",
    "# average_bleurt = sum(bleurt_scores) / len(bleurt_scores) if bleurt_scores else 0.0\n",
    "\n",
    "# Print Results\n",
    "print(f\"Final BERTScore (F1): {average_bert_f1:.4f}\")\n",
    "# print(f\"Final BLEURT Score: {average_bleurt:.4f}\")\n"
   ]
  },
  {
   "cell_type": "code",
   "execution_count": 14,
   "metadata": {},
   "outputs": [
    {
     "name": "stdout",
     "output_type": "stream",
     "text": [
      "Final METEOR Score: 0.4055\n"
     ]
    }
   ],
   "source": [
    "import json\n",
    "import nltk\n",
    "from nltk.translate.meteor_score import meteor_score\n",
    "\n",
    "\n",
    "# Compute METEOR scores\n",
    "meteor_scores = []\n",
    "\n",
    "for entry in data:\n",
    "    # Extract reference (ground truth) and candidate (prediction)\n",
    "    reference = entry[\"output\"][0]  # Ground truth\n",
    "    candidate = entry[\"golds\"][0]  # Model's prediction\n",
    "\n",
    "    # Compute METEOR score\n",
    "    score = meteor_score([reference.split()], candidate.split())\n",
    "    meteor_scores.append(score)\n",
    "\n",
    "# Compute final METEOR score (average over all samples)\n",
    "final_meteor_score = sum(meteor_scores) / len(meteor_scores) if meteor_scores else 0.0\n",
    "\n",
    "# Print the final METEOR score\n",
    "print(f\"Final METEOR Score: {final_meteor_score:.4f}\")\n"
   ]
  },
  {
   "cell_type": "code",
   "execution_count": 22,
   "metadata": {},
   "outputs": [
    {
     "data": {
      "text/plain": [
       "{'input': '<S> Richard james pears| <P> Nationality| <O> English <S> Richard james pears| <P> Occupation| <O> Professional footballer',\n",
       " 'output': 'richard james pears was an english professional footballer.',\n",
       " 'golds': 'richard james pears is an english former professional footballer.'}"
      ]
     },
     "execution_count": 22,
     "metadata": {},
     "output_type": "execute_result"
    }
   ],
   "source": [
    "data[0]"
   ]
  },
  {
   "cell_type": "code",
   "execution_count": null,
   "metadata": {},
   "outputs": [],
   "source": []
  }
 ],
 "metadata": {
  "kernelspec": {
   "display_name": "Python 3",
   "language": "python",
   "name": "python3"
  },
  "language_info": {
   "codemirror_mode": {
    "name": "ipython",
    "version": 3
   },
   "file_extension": ".py",
   "mimetype": "text/x-python",
   "name": "python",
   "nbconvert_exporter": "python",
   "pygments_lexer": "ipython3",
   "version": "3.10.16"
  }
 },
 "nbformat": 4,
 "nbformat_minor": 2
}
