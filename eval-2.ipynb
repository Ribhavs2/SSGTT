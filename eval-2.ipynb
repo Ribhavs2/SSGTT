{
 "cells": [
  {
   "cell_type": "markdown",
   "metadata": {},
   "source": [
    "## [MAUVE & ROUGE] ASQA & ELI5"
   ]
  },
  {
   "cell_type": "code",
   "execution_count": 18,
   "metadata": {},
   "outputs": [],
   "source": [
    "import copy\n",
    "import json\n",
    "# from metrics import load_file\n",
    "\n",
    "import random\n",
    "\n",
    "# Function to trim the 'pred' field to only the first sentence\n",
    "def trim_prediction(pred):\n",
    "    return pred.split(\"</s>\")[0]\n",
    "\n",
    "# Generate dummy data\n",
    "# dummy_data = [\n",
    "#     {\n",
    "#         \"input\": [['<S> Carl ludvig gerlach| <P> Nationality| <O> Danish',\n",
    "#                    '<S> Carl ludvig gerlach| <P> Occupation| <O> Composer',\n",
    "#                    '<S> Carl ludvig gerlach| <P> Occupation| <O> Opera singer']],\n",
    "#         \"pred\": trim_prediction('Carl Ludvig Gerlach was a Danish opera singer and composer.</s> Carl Ludvig Gerlach var en dansk operasanger og komponist.</s>'),\n",
    "#         \"label\": ['Carl Ludvig Gerlach was a Danish composer and opera singer.']\n",
    "#     },\n",
    "#     {\n",
    "#         \"input\": [['<S> Ceb european three-cushion championship| <P> Organized by| <O> Confédération européenne de billard',\n",
    "#                    '<S> Ceb european three-cushion championship| <P> Type| <O> Three-cushion billiards tournament']],\n",
    "#         \"pred\": trim_prediction('The CEB European Three-Cushion Championship is a three-cushion billiards tournament organized by the Confédération Européenne de Billard.</s>'),\n",
    "#         \"label\": ['The CEB European Three-cushion Championship is a three-cushion billiards tournament organized by the Confédération Européenne de Billard.']\n",
    "#     },\n",
    "#     {\n",
    "#         \"input\": [['<S> Abandoned mine| <P> Characteristic| <O> No responsible party',\n",
    "#                    '<S> Abandoned mine| <P> Requirement| <O> Remediation and/or restoration',\n",
    "#                    '<S> Abandoned mine| <P> Status| <O> Non-operational',\n",
    "#                    '<S> Abandoned mine| <P> Requirement| <O> Financing']],\n",
    "#         \"pred\": trim_prediction('An abandoned mine that is no longer operational requires remediation and/or restoration, but it is unclear who is responsible for this process.</s>'),\n",
    "#         \"label\": ['An abandoned mine is a mine or quarry which is no longer producing or operational and, there is no responsible party to finance the cost to address the remediation and/or restoration of the mine feature/site.']\n",
    "#     },\n",
    "#     {\n",
    "#         \"input\": [[\"<S> Pennsylvania railroad co.'s servant or servants| <P> Action| <O> Caused\",\n",
    "#                    '<S> Plaintiff| <P> Action| <O> Sued',\n",
    "#                    '<S> Pennsylvania railroad co.| <P> Type| <O> Company',\n",
    "#                    \"<S> Husband| <P> Death cause| <O> Negligence of the company's servant or servants\",\n",
    "#                    '<S> Defendant| <P> Type| <O> Company',\n",
    "#                    '<S> Jury| <P> Verdict| <O> Special verdict',\n",
    "#                    '<S> Price v. pennsylvania railroad co.| <P> Type| <O> Case']],\n",
    "#         \"pred\": trim_prediction(\"In the case of Price v. Pennsylvania Railroad Co., the plaintiff's husband died due to the negligence of the company's servant or servants, prompting the plaintiff to sue the company.</s>\"),\n",
    "#         \"label\": [\"Price v. Pennsylvania Railroad Co., 113 U.S. 218 , was a case where the plaintiff sued the defendant for the loss of her husband by a death which the jury found, by a special verdict, to be caused by the negligence of the company's servant or servants.\"]\n",
    "#     },\n",
    "#     {\n",
    "#         \"input\": [['<S> Asaba| <P> Family| <O> Papi and asaba languages',\n",
    "#                    '<S> Papi and asaba languages| <P> Member| <O> Papi',\n",
    "#                    '<S> Papi and asaba languages| <P> Region| <O> Northern papua new guinea',\n",
    "#                    '<S> Papi and asaba languages| <P> Member| <O> Suarmin',\n",
    "#                    '<S> Papi| <P> Family| <O> Papi and asaba languages',\n",
    "#                    '<S> uarmin| <P> Family| <O> Papi and asaba languages']],\n",
    "#         \"pred\": trim_prediction('Suarmin is a member of the Papi and Asaba languages family, which is spoken in Northern Papua New Guinea.</s>'),\n",
    "#         \"label\": ['The Papi and Asaba languages form a small family of two somewhat distantly related languages of northern Papua New Guinea, namely Papi and Suarmin.']\n",
    "#     }\n",
    "# ]\n",
    "\n",
    "# file_path = \"/shared/eng/pj20/firas_data/test_datasets/results/graphllm_asqa_answerer_test_results_graph_0.5_8b.json\"\n",
    "\n",
    "# if \"jsonl\" in file_path:\n",
    "#     data = load_file(file_path)\n",
    "# else:\n",
    "#     with open(file_path, \"r\") as f:\n",
    "#         data_ = json.load(f)\n",
    "\n",
    "\n",
    "# new_data = []\n",
    "# if \"test_output\" in file_path:\n",
    "#     for i in range(len(data['output'])):\n",
    "#         new_data.append({\"output\": data['output'][i], \"answer\": data['answer'][i], \"question\": data['question'][i]})\n",
    "#     data = new_data\n",
    "\n",
    "# else:\n",
    "#     data = data['data']\n",
    "#     if \"eli5\" in file_path:\n",
    "#         for item in data:\n",
    "#             item['answer'] = item['answers']\n",
    "\n",
    "# data = []\n",
    "# if \"graphllm\" in file_path:\n",
    "#     for item in data_:\n",
    "#         data.append({\"question\": item['input'].split(\"[Long Form] Question: \")[1].lower(), \"output\": item['prediction'].lower(), \"answer\": item['label'].lower()})\n",
    "\n",
    "with open(\"results_no_indent_modified.json\", \"r\") as file:\n",
    "    dummy_data = json.load(file)\n",
    "\n",
    "\n",
    "data = []\n",
    "for item in dummy_data:\n",
    "    data.append({\n",
    "        \"input\": \" | \".join([\" \".join(triple) for triple in item['input']]),\n",
    "        \"output\": item[\"pred\"][0].lower(),\n",
    "        \"golds\": item[\"label\"][0].lower()\n",
    "    })\n",
    "            \n"
   ]
  },
  {
   "cell_type": "code",
   "execution_count": 21,
   "metadata": {},
   "outputs": [
    {
     "data": {
      "text/plain": [
       "{'input': [['<S> Richard james pears| <P> Nationality| <O> English',\n",
       "   '<S> Richard james pears| <P> Occupation| <O> Professional footballer']],\n",
       " 'pred': ['Richard James Pears was an English professional footballer.'],\n",
       " 'label': ['Richard James Pears is an English former professional footballer.']}"
      ]
     },
     "execution_count": 21,
     "metadata": {},
     "output_type": "execute_result"
    }
   ],
   "source": [
    "dummy_data[0]"
   ]
  },
  {
   "cell_type": "code",
   "execution_count": 19,
   "metadata": {},
   "outputs": [
    {
     "data": {
      "text/plain": [
       "{'input': '<S> Pettit marine paint| <P> Manufacturer of| <O> Epoxies <S> Pettit marine paint| <P> Target market| <O> Commercial markets <S> Pettit marine paint| <P> Manufacturer of| <O> Varnish <S> Pettit marine paint| <P> Manufacturer of| <O> Antifouling boat bottom paint <S> Pettit marine paint| <P> Manufacturer of| <O> Marine coatings <S> Pettit marine paint| <P> Target market| <O> Consumer markets',\n",
       " 'output': 'pettit marine paint is a manufacturer of marine coatings, including epoxies, varnish, and antifouling boat bottom paint, targeting both commercial and consumer markets.',\n",
       " 'golds': 'pettit marine paint is a manufacturer of marine coatings, antifouling boat bottom paint, varnish and epoxies for consumer and commercial markets.'}"
      ]
     },
     "execution_count": 19,
     "metadata": {},
     "output_type": "execute_result"
    }
   ],
   "source": [
    "data[10]"
   ]
  },
  {
   "cell_type": "code",
   "execution_count": 3,
   "metadata": {},
   "outputs": [
    {
     "name": "stderr",
     "output_type": "stream",
     "text": [
      "/home/ubuntu/miniconda3/envs/llama_env/lib/python3.10/site-packages/tqdm/auto.py:21: TqdmWarning: IProgress not found. Please update jupyter and ipywidgets. See https://ipywidgets.readthedocs.io/en/stable/user_install.html\n",
      "  from .autonotebook import tqdm as notebook_tqdm\n"
     ]
    }
   ],
   "source": [
    "import os\n",
    "from metrics import *"
   ]
  },
  {
   "cell_type": "code",
   "execution_count": 4,
   "metadata": {},
   "outputs": [
    {
     "name": "stderr",
     "output_type": "stream",
     "text": [
      "[nltk_data] Downloading package punkt_tab to /home/ubuntu/nltk_data...\n",
      "[nltk_data]   Package punkt_tab is already up-to-date!\n"
     ]
    },
    {
     "data": {
      "text/plain": [
       "True"
      ]
     },
     "execution_count": 4,
     "metadata": {},
     "output_type": "execute_result"
    }
   ],
   "source": [
    "import nltk\n",
    "nltk.download('punkt_tab')"
   ]
  },
  {
   "cell_type": "code",
   "execution_count": 5,
   "metadata": {},
   "outputs": [],
   "source": [
    "from tqdm import tqdm\n",
    "\n"
   ]
  },
  {
   "cell_type": "code",
   "execution_count": 6,
   "metadata": {},
   "outputs": [
    {
     "name": "stdout",
     "output_type": "stream",
     "text": [
      "ROUGE Score: 71.83422263040993\n",
      "Loading tokenizer\n",
      "Tokenizing text...\n",
      "Loading tokenizer\n",
      "Loading model\n",
      "Featurizing tokens\n"
     ]
    },
    {
     "name": "stderr",
     "output_type": "stream",
     "text": [
      "Featurizing p: 100%|██████████| 41/41 [00:33<00:00,  1.22it/s]\n"
     ]
    },
    {
     "name": "stdout",
     "output_type": "stream",
     "text": [
      "Tokenizing text...\n",
      "Featurizing tokens\n"
     ]
    },
    {
     "name": "stderr",
     "output_type": "stream",
     "text": [
      "Featurizing q: 100%|██████████| 41/41 [00:32<00:00,  1.26it/s]\n",
      "WARNING clustering 656 points to 33 centroids: please provide at least 1287 training points\n"
     ]
    },
    {
     "name": "stdout",
     "output_type": "stream",
     "text": [
      "seed = 25\n",
      "performing clustering in lower dimension = 128\n",
      "Clustering 656 points in 129D to 33 clusters, redo 5 times, 500 iterations\n",
      "  Preprocessing in 0.00 s\n",
      "Outer iteration 0 / 5\n",
      "  Iteration 499 (0.23 s, search 0.12 s): objective=131.689 imbalance=1.214 nsplit=0       \n",
      "Objective improved: keep new clusters\n",
      "Outer iteration 1 / 5\n",
      "  Iteration 499 (0.32 s, search 0.19 s): objective=131.309 imbalance=1.571 nsplit=0       \n",
      "Objective improved: keep new clusters\n",
      "Outer iteration 2 / 5\n",
      "  Iteration 499 (0.41 s, search 0.26 s): objective=136.535 imbalance=1.716 nsplit=0       \n",
      "Outer iteration 3 / 5\n",
      "  Iteration 499 (0.49 s, search 0.32 s): objective=130.337 imbalance=1.431 nsplit=0       \n",
      "Objective improved: keep new clusters\n",
      "Outer iteration 4 / 5\n",
      "  Iteration 499 (0.58 s, search 0.38 s): objective=134.022 imbalance=1.814 nsplit=0       \n",
      "kmeans time: 0.58 s\n",
      "total discretization time: 0.75 seconds\n",
      "MAUVE Score: 76.08182172960719\n"
     ]
    },
    {
     "name": "stderr",
     "output_type": "stream",
     "text": [
      "100%|██████████| 328/328 [00:00<00:00, 25962.10it/s]"
     ]
    },
    {
     "name": "stdout",
     "output_type": "stream",
     "text": [
      "Match Accuracy: 0.08536585365853659\n"
     ]
    },
    {
     "name": "stderr",
     "output_type": "stream",
     "text": [
      "\n"
     ]
    }
   ],
   "source": [
    "os.environ[\"CUDA_VISIBLE_DEVICES\"] = \"0\"\n",
    "\n",
    "normalized_data = copy.deepcopy(data)\n",
    "\n",
    "# Normalize output and reference texts (trims to first 100 tokens)\n",
    "references = [' '.join((' '.join(item['input']) + \" \" + ' '.join(item['golds'])).split()[:100]).rstrip() for item in normalized_data]\n",
    "predictions = [' '.join((' '.join(item['input']) + \" \" + item['output']).split()[:100]).rstrip() for item in normalized_data]\n",
    "\n",
    "# Compute and display metrics\n",
    "print(\"ROUGE Score:\", compute_rouge([{\"output\": d[\"output\"], \"label\": d[\"golds\"]} for d in normalized_data]))\n",
    "print(\"MAUVE Score:\", mauve_score(predictions, references))\n",
    "\n",
    "# Compute accuracy-based evaluation\n",
    "metric_result_1 = []\n",
    "for i in tqdm(range(len(data))):\n",
    "    golds = data[i][\"golds\"] if isinstance(data[i][\"golds\"], list) else [data[i][\"golds\"]]\n",
    "    result = match(data[i][\"output\"], golds)\n",
    "    metric_result_1.append(result)\n",
    "\n",
    "# Print final evaluation metric\n",
    "print(\"Match Accuracy:\", np.mean(metric_result_1))"
   ]
  },
  {
   "cell_type": "code",
   "execution_count": 7,
   "metadata": {},
   "outputs": [
    {
     "data": {
      "text/plain": [
       "{'input': '<S> Richard james pears| <P> Nationality| <O> English <S> Richard james pears| <P> Occupation| <O> Professional footballer',\n",
       " 'output': 'richard james pears was an english professional footballer.',\n",
       " 'golds': 'richard james pears is an english former professional footballer.'}"
      ]
     },
     "execution_count": 7,
     "metadata": {},
     "output_type": "execute_result"
    }
   ],
   "source": [
    "data[0]"
   ]
  },
  {
   "cell_type": "code",
   "execution_count": 8,
   "metadata": {},
   "outputs": [
    {
     "name": "stdout",
     "output_type": "stream",
     "text": [
      "Final BLEU Score: 0.1442\n"
     ]
    }
   ],
   "source": [
    "import json\n",
    "import nltk\n",
    "from nltk.translate.bleu_score import sentence_bleu, SmoothingFunction\n",
    "\n",
    "# Smoothing function to avoid zero scores\n",
    "smoothing = SmoothingFunction().method1\n",
    "\n",
    "# List to store BLEU scores\n",
    "bleu_scores = []\n",
    "\n",
    "for entry in data:\n",
    "    # Process 'pred' field\n",
    "    processed_pred = entry[\"output\"][0]\n",
    "\n",
    "    # Tokenize reference and prediction\n",
    "    references = [entry[\"golds\"][0].split()]  # Tokenized ground truth\n",
    "    candidate = processed_pred.split()  # Tokenized prediction\n",
    "\n",
    "    # Compute BLEU score\n",
    "    bleu_score = sentence_bleu(references, candidate, smoothing_function=smoothing)\n",
    "    bleu_scores.append(bleu_score)\n",
    "\n",
    "# Compute final average BLEU score\n",
    "final_bleu_score = sum(bleu_scores) / len(bleu_scores) if bleu_scores else 0.0\n",
    "\n",
    "# Print the final BLEU score\n",
    "print(f\"Final BLEU Score: {final_bleu_score:.4f}\")\n"
   ]
  },
  {
   "cell_type": "code",
   "execution_count": 13,
   "metadata": {},
   "outputs": [
    {
     "name": "stderr",
     "output_type": "stream",
     "text": [
      "[nltk_data] Downloading package wordnet to /home/ubuntu/nltk_data...\n"
     ]
    },
    {
     "data": {
      "text/plain": [
       "True"
      ]
     },
     "execution_count": 13,
     "metadata": {},
     "output_type": "execute_result"
    }
   ],
   "source": [
    "nltk.download('wordnet')  # Required for METEOR to handle synonyms\n"
   ]
  },
  {
   "cell_type": "code",
   "execution_count": 12,
   "metadata": {},
   "outputs": [
    {
     "name": "stdout",
     "output_type": "stream",
     "text": [
      "Final BERTScore (F1): 0.9265\n"
     ]
    }
   ],
   "source": [
    "import json\n",
    "import torch\n",
    "from bert_score import score as bert_score\n",
    "# from bleurt import score as bleurt_score\n",
    "\n",
    "# Load JSON data from file\n",
    "# with open(\"results.json\", \"r\") as file:\n",
    "#     results = json.load(file)\n",
    "\n",
    "# Extract predictions and ground truths\n",
    "predictions = [entry[\"output\"][0] for entry in data]\n",
    "references = [entry[\"golds\"][0] for entry in data]\n",
    "\n",
    "# Compute BERTScore\n",
    "P, R, F1 = bert_score(predictions, references, lang=\"en\", model_type=\"microsoft/deberta-xlarge-mnli\")\n",
    "\n",
    "# Compute BLEURT\n",
    "# bleurt_evaluator = bleurt_score.BleurtScorer(\"BLEURT-20\")\n",
    "# bleurt_scores = bleurt_evaluator.score(references=references, candidates=predictions)\n",
    "\n",
    "# Compute Final Scores\n",
    "average_bert_f1 = torch.mean(F1).item()\n",
    "# average_bleurt = sum(bleurt_scores) / len(bleurt_scores) if bleurt_scores else 0.0\n",
    "\n",
    "# Print Results\n",
    "print(f\"Final BERTScore (F1): {average_bert_f1:.4f}\")\n",
    "# print(f\"Final BLEURT Score: {average_bleurt:.4f}\")\n"
   ]
  },
  {
   "cell_type": "code",
   "execution_count": 14,
   "metadata": {},
   "outputs": [
    {
     "name": "stdout",
     "output_type": "stream",
     "text": [
      "Final METEOR Score: 0.4055\n"
     ]
    }
   ],
   "source": [
    "import json\n",
    "import nltk\n",
    "from nltk.translate.meteor_score import meteor_score\n",
    "\n",
    "\n",
    "# Compute METEOR scores\n",
    "meteor_scores = []\n",
    "\n",
    "for entry in data:\n",
    "    # Extract reference (ground truth) and candidate (prediction)\n",
    "    reference = entry[\"output\"][0]  # Ground truth\n",
    "    candidate = entry[\"golds\"][0]  # Model's prediction\n",
    "\n",
    "    # Compute METEOR score\n",
    "    score = meteor_score([reference.split()], candidate.split())\n",
    "    meteor_scores.append(score)\n",
    "\n",
    "# Compute final METEOR score (average over all samples)\n",
    "final_meteor_score = sum(meteor_scores) / len(meteor_scores) if meteor_scores else 0.0\n",
    "\n",
    "# Print the final METEOR score\n",
    "print(f\"Final METEOR Score: {final_meteor_score:.4f}\")\n"
   ]
  }
 ],
 "metadata": {
  "kernelspec": {
   "display_name": "Python 3",
   "language": "python",
   "name": "python3"
  },
  "language_info": {
   "codemirror_mode": {
    "name": "ipython",
    "version": 3
   },
   "file_extension": ".py",
   "mimetype": "text/x-python",
   "name": "python",
   "nbconvert_exporter": "python",
   "pygments_lexer": "ipython3",
   "version": "3.10.16"
  }
 },
 "nbformat": 4,
 "nbformat_minor": 2
}
